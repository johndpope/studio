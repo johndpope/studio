{
 "cells": [
  {
   "cell_type": "markdown",
   "id": "41c11bb2-7892-49e6-b6cd-5684e4ae9a5c",
   "metadata": {},
   "source": [
    "**2022-06-21** hello world"
   ]
  }
 ],
 "metadata": {
  "kernelspec": {
   "display_name": "Python 3",
   "language": "python",
   "name": "python3"
  },
  "language_info": {
   "codemirror_mode": {
    "name": "ipython",
    "version": 3
   },
   "file_extension": ".py",
   "mimetype": "text/x-python",
   "name": "python",
   "nbconvert_exporter": "python",
   "pygments_lexer": "ipython3",
   "version": "3.9.5"
  }
 },
 "nbformat": 4,
 "nbformat_minor": 5
}
