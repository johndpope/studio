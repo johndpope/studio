{
  "cells": [
    {
      "cell_type": "markdown",
      "id": "41c11bb2-7892-49e6-b6cd-5684e4ae9a5c",
      "metadata": {
        "id": "41c11bb2-7892-49e6-b6cd-5684e4ae9a5c"
      },
      "source": [
        "**2022-06-21** hello world"
      ]
    },
    {
      "cell_type": "code",
      "source": [
        "!pip install -q --upgrade pip setuptools\n",
        "!apt-get install libcairo2-dev\n",
        "!pip install -q --log sketch_install_log \"git+https://github.com/0xmaddie/studio.git#egg=sketch&subdirectory=0000-sketch\""
      ],
      "metadata": {
        "id": "R9QBnco6MGA4",
        "outputId": "e269d314-4766-4d59-c317-a8cd3e6b3f54",
        "colab": {
          "base_uri": "https://localhost:8080/"
        }
      },
      "id": "R9QBnco6MGA4",
      "execution_count": 16
    },
    {
      "cell_type": "code",
      "source": [
        "import numpy as np\n",
        "import sketch\n",
        "from sketch.random_resnet import RandomResNet\n",
        "\n",
        "\n",
        "model = RandomResNet(dim=4)\n",
        "value = model.eval(np.array([1, 2, 3, 4]))\n",
        "print(value)"
      ],
      "metadata": {
        "id": "chlXS4DZMz4W",
        "outputId": "2e61d335-19bf-4a81-8d0a-827d12022c86",
        "colab": {
          "base_uri": "https://localhost:8080/"
        }
      },
      "id": "chlXS4DZMz4W",
      "execution_count": 19
    }
  ],
  "metadata": {
   "colab": {
    "collapsed_sections": [],
    "name": "0000-sketch.ipynb",
    "private_outputs": true,
    "provenance": [],
    "toc_visible": true
   },
   "kernelspec": {
    "display_name": "Python 3",
    "language": "python",
    "name": "python3"
   },
   "language_info": {
    "codemirror_mode": {
    "name": "ipython",
    "version": 3
   },
   "file_extension": ".py",
   "mimetype": "text/x-python",
   "name": "python",
   "nbconvert_exporter": "python",
   "pygments_lexer": "ipython3",
   "version": "3.9.5"
  }
 },
 "nbformat": 4,
 "nbformat_minor": 5
}
